{
 "cells": [
  {
   "cell_type": "code",
   "execution_count": 1,
   "id": "251deec1",
   "metadata": {},
   "outputs": [
    {
     "name": "stdout",
     "output_type": "stream",
     "text": [
      "hi\n"
     ]
    }
   ],
   "source": [
    "print(\"hi\")"
   ]
  },
  {
   "cell_type": "markdown",
   "id": "e829d331",
   "metadata": {},
   "source": [
    "### Import requests"
   ]
  },
  {
   "cell_type": "code",
   "execution_count": 1,
   "id": "e6a7ed97",
   "metadata": {},
   "outputs": [],
   "source": [
    "!pip install requests --quiet\n",
    "!pip install pandas --quiet\n",
    "!pip install matplotlib --quiet\n",
    "!pip install seaborn --quiet\n",
    "\n",
    "import requests\n",
    "import pandas as pd\n",
    "import matplotlib.pyplot as plt\n",
    "import seaborn as sns"
   ]
  },
  {
   "cell_type": "code",
   "execution_count": 37,
   "id": "ab6c9937",
   "metadata": {},
   "outputs": [],
   "source": [
    "CLIENT_ID = '586ecea45142471cb181007f2ffe630b'\n",
    "CLIENT_SECRET = '187ee73885934d9d86a78d4965b7d6d7'\n",
    "# Define the required scopes\n",
    "SCOPES = 'user-read-recently-played'"
   ]
  },
  {
   "cell_type": "markdown",
   "id": "b00f75ca",
   "metadata": {},
   "source": [
    "### Grab access Token"
   ]
  },
  {
   "cell_type": "code",
   "execution_count": 39,
   "id": "a58c3d83",
   "metadata": {},
   "outputs": [],
   "source": [
    "# Function to authenticate and get the access token\n",
    "def get_access_token(client_id, client_secret, scopes):\n",
    "    auth_response = requests.post('https://accounts.spotify.com/api/token',\n",
    "                                  data={'grant_type': 'client_credentials',\n",
    "                                        'client_id': client_id,\n",
    "                                        'client_secret': client_secret,\n",
    "                                        'scope': scopes}).json()\n",
    "    return auth_response['access_token']\n",
    "\n",
    "# Get access token\n",
    "access_token = get_access_token(CLIENT_ID, CLIENT_SECRET, SCOPES)\n",
    "\n"
   ]
  },
  {
   "cell_type": "code",
   "execution_count": 40,
   "id": "6d64aa8b",
   "metadata": {},
   "outputs": [],
   "source": [
    "# Set headers\n",
    "HEADERS = {'Authorization': 'Bearer {token}'.format(token=access_token)}"
   ]
  },
  {
   "cell_type": "code",
   "execution_count": 41,
   "id": "3a048443",
   "metadata": {},
   "outputs": [],
   "source": [
    "# auth_response = requests.post('https://accounts.spotify.com/api/token',\n",
    "#     {'grant_type': 'client_credentials',\n",
    "#     'client_id': CLIENT_ID,\n",
    "#     'client_secret': CLIENT_SECRET}).json()\n",
    "# access_token = auth_response['access_token']\n",
    "# HEADERS = {'Authorization': 'Bearer {token}'.format(token=access_token)}"
   ]
  },
  {
   "cell_type": "code",
   "execution_count": 42,
   "id": "b85545b6",
   "metadata": {},
   "outputs": [
    {
     "name": "stdout",
     "output_type": "stream",
     "text": [
      "BQCwSMSuNZmCij1TdSVpdhqx8ccDaA-UPl7aiy5qkguGQspt-ibv2DKtcynEVZjNoEw--SYTNqurTw16ehmED3CXz4tL6jnW2pfMDRhXorFgPiIP39OwUq-G\n"
     ]
    }
   ],
   "source": [
    "print(access_token)"
   ]
  },
  {
   "cell_type": "code",
   "execution_count": 43,
   "id": "77c6c2d8",
   "metadata": {},
   "outputs": [],
   "source": [
    "# Idk if we need this one, use different later. not working. need right link? "
   ]
  },
  {
   "cell_type": "code",
   "execution_count": 27,
   "id": "75240849",
   "metadata": {},
   "outputs": [],
   "source": [
    "def get_listening_history(token, before, limit):\n",
    "    # get the endpoint url\n",
    "    url = 'https://api.spotify.com/v1/me/player/recently-played'\n",
    "    \n",
    "    # Get the Authorization header for the request\n",
    "    headers = {'Authorization': f'Bearer {token}'}\n",
    "    \n",
    "    # setup the query\n",
    "    query = f\"?before={before}&limit={limit}\"\n",
    "    \n",
    "    # et the query  url\n",
    "    query_url = url + query\n",
    "    \n",
    "     #Send a GET request to the Spotify API with the query URL and headers\n",
    "    result = requests.get(query_url, headers=headers)\n",
    "    print(result)"
   ]
  },
  {
   "cell_type": "code",
   "execution_count": 28,
   "id": "8c0bd3cf",
   "metadata": {},
   "outputs": [
    {
     "name": "stdout",
     "output_type": "stream",
     "text": [
      "<Response [401]>\n"
     ]
    }
   ],
   "source": [
    "access = '187ee73885934d9d86a78d4965b7d6d7'\n",
    "get_listening_history(access, '2024-02-28', 50)"
   ]
  },
  {
   "cell_type": "markdown",
   "id": "6e5cb487",
   "metadata": {},
   "source": [
    "### Function that specifies the timestamp of one day"
   ]
  },
  {
   "cell_type": "code",
   "execution_count": 44,
   "id": "af9f4eb6",
   "metadata": {},
   "outputs": [],
   "source": [
    "import datetime\n",
    "\n",
    "# Function to get the start and end timestamps for a specific day\n",
    "def get_day_window(date):\n",
    "    date_obj = datetime.datetime.strptime(date, '%Y-%m-%d')  # Convert the date string to a datetime object\n",
    "    \n",
    "    # Get the start timestamp for the day (00:00:00)\n",
    "    start_timestamp = date_obj.replace(hour=0, minute=0, second=0).isoformat() + 'Z'\n",
    "    \n",
    "    # Get the end timestamp for the day (23:59:59)\n",
    "    end_timestamp = date_obj.replace(hour=23, minute=59, second=59).isoformat() + 'Z'\n",
    "    \n",
    "    return start_timestamp, end_timestamp"
   ]
  },
  {
   "cell_type": "markdown",
   "id": "c4eecea1",
   "metadata": {},
   "source": [
    "### given a track id, return metadata"
   ]
  },
  {
   "cell_type": "code",
   "execution_count": 45,
   "id": "b91f8898",
   "metadata": {},
   "outputs": [],
   "source": [
    "def get_track_data(track_id):\n",
    "    \"\"\" Given track_id, returns a dictionary\n",
    "        containing the track's catalog information\n",
    "        (e.g. name, artists, genres) and audio feature\n",
    "        metadata (e.g. tempo, key, energy).\n",
    "    \"\"\"\n",
    "    # Get each track's audio features\n",
    "    audio = requests.get(BASE_URL + 'audio-features/' + track_id,\n",
    "                         headers=HEADERS).json()\n",
    "    # Get each track's catalog information\n",
    "    track = requests.get(BASE_URL + 'tracks/' + track_id,\n",
    "                         headers=HEADERS).json()\n",
    "    artists = []\n",
    "    genres = []\n",
    "    for artist in track['artists']:\n",
    "        artist_id = artist['id']\n",
    "        artist_genres = requests.get(BASE_URL + 'artists/' + artist_id,\n",
    "                                     headers=HEADERS).json()['genres']\n",
    "        artists.append(artist['name'])\n",
    "        genres.append(artist_genres)\n",
    "    genres = [item for sublist in genres for item in sublist] # Flatten list\n",
    "    \n",
    "    # Combine into one dictionary and return\n",
    "    audio.update({\n",
    "        'name': track['name'],\n",
    "        'artists': artists,\n",
    "        'genres': genres,\n",
    "        'popularity': track['popularity'],\n",
    "        'explicit': track['explicit']\n",
    "    })\n",
    "    return audio"
   ]
  },
  {
   "cell_type": "code",
   "execution_count": 46,
   "id": "30f8b2ca",
   "metadata": {},
   "outputs": [
    {
     "data": {
      "text/plain": [
       "{'danceability': 0.566,\n",
       " 'energy': 0.647,\n",
       " 'key': 1,\n",
       " 'loudness': -6.815,\n",
       " 'mode': 0,\n",
       " 'speechiness': 0.0335,\n",
       " 'acousticness': 0.0477,\n",
       " 'instrumentalness': 0,\n",
       " 'liveness': 0.121,\n",
       " 'valence': 0.22,\n",
       " 'tempo': 111.96,\n",
       " 'type': 'audio_features',\n",
       " 'id': '1Ist6PR2BZR3n2z2Y5R6S1',\n",
       " 'uri': 'spotify:track:1Ist6PR2BZR3n2z2Y5R6S1',\n",
       " 'track_href': 'https://api.spotify.com/v1/tracks/1Ist6PR2BZR3n2z2Y5R6S1',\n",
       " 'analysis_url': 'https://api.spotify.com/v1/audio-analysis/1Ist6PR2BZR3n2z2Y5R6S1',\n",
       " 'duration_ms': 264773,\n",
       " 'time_signature': 4,\n",
       " 'name': 'Summertime Sadness',\n",
       " 'artists': ['Lana Del Rey'],\n",
       " 'genres': ['art pop', 'pop'],\n",
       " 'popularity': 76,\n",
       " 'explicit': False}"
      ]
     },
     "execution_count": 46,
     "metadata": {},
     "output_type": "execute_result"
    }
   ],
   "source": [
    "sample_track_id = '1Ist6PR2BZR3n2z2Y5R6S1'\n",
    "get_track_data(sample_track_id)"
   ]
  },
  {
   "cell_type": "code",
   "execution_count": null,
   "id": "f3a42832",
   "metadata": {},
   "outputs": [
    {
     "name": "stdout",
     "output_type": "stream",
     "text": [
      "Fetching data for 2024-01-01:\n",
      "{'error': {'status': 500, 'message': 'Server error.'}}\n",
      "Fetching data for 2024-01-02:\n",
      "{'error': {'status': 500, 'message': 'Server error.'}}\n",
      "Fetching data for 2024-01-03:\n",
      "{'error': {'status': 500, 'message': 'Server error.'}}\n",
      "Fetching data for 2024-01-04:\n",
      "{'error': {'status': 500, 'message': 'Server error.'}}\n",
      "Fetching data for 2024-01-05:\n",
      "{'error': {'status': 500, 'message': 'Server error.'}}\n",
      "Fetching data for 2024-01-06:\n",
      "{'error': {'status': 500, 'message': 'Server error.'}}\n",
      "Fetching data for 2024-01-07:\n",
      "{'error': {'status': 500, 'message': 'Server error.'}}\n",
      "Fetching data for 2024-01-08:\n",
      "{'error': {'status': 500, 'message': 'Server error.'}}\n",
      "Fetching data for 2024-01-09:\n",
      "{'error': {'status': 500, 'message': 'Server error.'}}\n",
      "Fetching data for 2024-01-10:\n",
      "{'error': {'status': 500, 'message': 'Server error.'}}\n",
      "Fetching data for 2024-01-11:\n",
      "{'error': {'status': 500, 'message': 'Server error.'}}\n",
      "Fetching data for 2024-01-12:\n",
      "{'error': {'status': 500, 'message': 'Server error.'}}\n",
      "Fetching data for 2024-01-13:\n",
      "{'error': {'status': 500, 'message': 'Server error.'}}\n",
      "Fetching data for 2024-01-14:\n",
      "{'error': {'status': 500, 'message': 'Server error.'}}\n",
      "Fetching data for 2024-01-15:\n",
      "{'error': {'status': 500, 'message': 'Server error.'}}\n",
      "Fetching data for 2024-01-16:\n",
      "{'error': {'status': 500, 'message': 'Server error.'}}\n",
      "Fetching data for 2024-01-17:\n",
      "{'error': {'status': 500, 'message': 'Server error.'}}\n",
      "Fetching data for 2024-01-18:\n",
      "{'error': {'status': 500, 'message': 'Server error.'}}\n",
      "Fetching data for 2024-01-19:\n",
      "{'error': {'status': 500, 'message': 'Server error.'}}\n",
      "Fetching data for 2024-01-20:\n",
      "{'error': {'status': 500, 'message': 'Server error.'}}\n",
      "Fetching data for 2024-01-21:\n",
      "{'error': {'status': 500, 'message': 'Server error.'}}\n",
      "Fetching data for 2024-01-22:\n",
      "{'error': {'status': 500, 'message': 'Server error.'}}\n",
      "Fetching data for 2024-01-23:\n",
      "{'error': {'status': 500, 'message': 'Server error.'}}\n",
      "Fetching data for 2024-01-24:\n",
      "{'error': {'status': 500, 'message': 'Server error.'}}\n",
      "Fetching data for 2024-01-25:\n",
      "{'error': {'status': 500, 'message': 'Server error.'}}\n",
      "Fetching data for 2024-01-26:\n",
      "{'error': {'status': 500, 'message': 'Server error.'}}\n",
      "Fetching data for 2024-01-27:\n",
      "{'error': {'status': 500, 'message': 'Server error.'}}\n",
      "Fetching data for 2024-01-28:\n",
      "{'error': {'status': 500, 'message': 'Server error.'}}\n",
      "Fetching data for 2024-01-29:\n",
      "{'error': {'status': 500, 'message': 'Server error.'}}\n",
      "Fetching data for 2024-01-30:\n"
     ]
    }
   ],
   "source": [
    "# trying January\n",
    "for day in range(1, 31):  # Assuming a month has 30 days\n",
    "    date_to_fetch = f'2024-01-{day:02d}'  \n",
    "    start_time, end_time = get_day_window(date_to_fetch)\n",
    "    \n",
    "    print(f\"Fetching data for {date_to_fetch}:\")\n",
    "    \n",
    "    # Retrieve tracks listened to on the specified day\n",
    "    result = requests.get('https://api.spotify.com/v1/me/player/recently-played',\n",
    "                          headers=HEADERS,\n",
    "                          params={'before': end_time, 'limit': 50}).json()\n",
    "    print(result)\n",
    "#     # get the endpoint url\n",
    "#     url = 'https://api.spotify.com/v1/me/player/recently-played'\n",
    "    \n",
    "#     # Get the Authorization header for the request\n",
    "#     headers = {'Authorization': f'Bearer {token}'}\n",
    "    \n",
    "#     # setup the query\n",
    "#     query = f\"?before={before}&limit={limit}\"\n",
    "    \n",
    "#     # et the query  url\n",
    "#     query_url = url + query\n",
    "    \n",
    "#      #Send a GET request to the Spotify API with the query URL and headers\n",
    "#     result = requests.get(query_url, headers=headers)\n",
    "#     result.json()['items'] # i added this but lowkey this might not go here"
   ]
  },
  {
   "cell_type": "code",
   "execution_count": null,
   "id": "04ef6ac7",
   "metadata": {},
   "outputs": [],
   "source": []
  }
 ],
 "metadata": {
  "kernelspec": {
   "display_name": "Python 3 (ipykernel)",
   "language": "python",
   "name": "python3"
  },
  "language_info": {
   "codemirror_mode": {
    "name": "ipython",
    "version": 3
   },
   "file_extension": ".py",
   "mimetype": "text/x-python",
   "name": "python",
   "nbconvert_exporter": "python",
   "pygments_lexer": "ipython3",
   "version": "3.9.13"
  },
  "vscode": {
   "interpreter": {
    "hash": "b0fa6594d8f4cbf19f97940f81e996739fb7646882a419484c72d19e05852a7e"
   }
  }
 },
 "nbformat": 4,
 "nbformat_minor": 5
}
