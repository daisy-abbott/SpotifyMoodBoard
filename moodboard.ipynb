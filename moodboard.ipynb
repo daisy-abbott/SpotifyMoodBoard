{
 "cells": [
  {
   "cell_type": "code",
   "execution_count": 1,
   "id": "251deec1",
   "metadata": {},
   "outputs": [
    {
     "name": "stdout",
     "output_type": "stream",
     "text": [
      "hi\n"
     ]
    }
   ],
   "source": [
    "print(\"hi\")"
   ]
  },
  {
   "cell_type": "markdown",
   "id": "e829d331",
   "metadata": {},
   "source": [
    "### Import requests"
   ]
  },
  {
   "cell_type": "code",
   "execution_count": 10,
   "id": "e6a7ed97",
   "metadata": {},
   "outputs": [
    {
     "name": "stdout",
     "output_type": "stream",
     "text": [
      "\n",
      "\u001b[1m[\u001b[0m\u001b[34;49mnotice\u001b[0m\u001b[1;39;49m]\u001b[0m\u001b[39;49m A new release of pip is available: \u001b[0m\u001b[31;49m23.2.1\u001b[0m\u001b[39;49m -> \u001b[0m\u001b[32;49m24.0\u001b[0m\n",
      "\u001b[1m[\u001b[0m\u001b[34;49mnotice\u001b[0m\u001b[1;39;49m]\u001b[0m\u001b[39;49m To update, run: \u001b[0m\u001b[32;49mpython3.11 -m pip install --upgrade pip\u001b[0m\n",
      "\n",
      "\u001b[1m[\u001b[0m\u001b[34;49mnotice\u001b[0m\u001b[1;39;49m]\u001b[0m\u001b[39;49m A new release of pip is available: \u001b[0m\u001b[31;49m23.2.1\u001b[0m\u001b[39;49m -> \u001b[0m\u001b[32;49m24.0\u001b[0m\n",
      "\u001b[1m[\u001b[0m\u001b[34;49mnotice\u001b[0m\u001b[1;39;49m]\u001b[0m\u001b[39;49m To update, run: \u001b[0m\u001b[32;49mpython3.11 -m pip install --upgrade pip\u001b[0m\n",
      "\n",
      "\u001b[1m[\u001b[0m\u001b[34;49mnotice\u001b[0m\u001b[1;39;49m]\u001b[0m\u001b[39;49m A new release of pip is available: \u001b[0m\u001b[31;49m23.2.1\u001b[0m\u001b[39;49m -> \u001b[0m\u001b[32;49m24.0\u001b[0m\n",
      "\u001b[1m[\u001b[0m\u001b[34;49mnotice\u001b[0m\u001b[1;39;49m]\u001b[0m\u001b[39;49m To update, run: \u001b[0m\u001b[32;49mpython3.11 -m pip install --upgrade pip\u001b[0m\n",
      "\n",
      "\u001b[1m[\u001b[0m\u001b[34;49mnotice\u001b[0m\u001b[1;39;49m]\u001b[0m\u001b[39;49m A new release of pip is available: \u001b[0m\u001b[31;49m23.2.1\u001b[0m\u001b[39;49m -> \u001b[0m\u001b[32;49m24.0\u001b[0m\n",
      "\u001b[1m[\u001b[0m\u001b[34;49mnotice\u001b[0m\u001b[1;39;49m]\u001b[0m\u001b[39;49m To update, run: \u001b[0m\u001b[32;49mpython3.11 -m pip install --upgrade pip\u001b[0m\n"
     ]
    }
   ],
   "source": [
    "!pip install requests --quiet\n",
    "!pip install pandas --quiet\n",
    "!pip install matplotlib --quiet\n",
    "!pip install seaborn --quiet\n",
    "\n",
    "import requests\n",
    "import pandas as pd\n",
    "import matplotlib.pyplot as plt\n",
    "import seaborn as sns"
   ]
  },
  {
   "cell_type": "code",
   "execution_count": 11,
   "id": "ab6c9937",
   "metadata": {},
   "outputs": [],
   "source": [
    "CLIENT_ID = '586ecea45142471cb181007f2ffe630b'\n",
    "CLIENT_SECRET = '187ee73885934d9d86a78d4965b7d6d7'"
   ]
  },
  {
   "attachments": {},
   "cell_type": "markdown",
   "id": "b00f75ca",
   "metadata": {},
   "source": [
    "### Grab access Token"
   ]
  },
  {
   "cell_type": "code",
   "execution_count": 12,
   "id": "3a048443",
   "metadata": {},
   "outputs": [],
   "source": [
    "auth_response = requests.post('https://accounts.spotify.com/api/token',\n",
    "    {'grant_type': 'client_credentials',\n",
    "    'client_id': CLIENT_ID,\n",
    "    'client_secret': CLIENT_SECRET}).json()\n",
    "access_token = auth_response['access_token']\n",
    "HEADERS = {'Authorization': 'Bearer {token}'.format(token=access_token)}"
   ]
  },
  {
   "cell_type": "code",
   "execution_count": 13,
   "id": "75240849",
   "metadata": {},
   "outputs": [],
   "source": [
    "def get_listening_history(token, before, limit):\n",
    "    # get the endpoint url\n",
    "    url = 'https://api.spotify.com/v1/me/player/recently-played'\n",
    "    \n",
    "    # Get the Authorization header for the request\n",
    "    headers = {'Authorization': f'Bearer {token}'}\n",
    "    \n",
    "    # setup the query\n",
    "    query = f\"?before={before}&limit={limit}\"\n",
    "    \n",
    "    # et the query  url\n",
    "    query_url = url + query\n",
    "    \n",
    "     #Send a GET request to the Spotify API with the query URL and headers\n",
    "    result = requests.get(url, headers=headers)\n",
    "    result.json()['items']"
   ]
  },
  {
   "cell_type": "code",
   "execution_count": 15,
   "id": "af9f4eb6",
   "metadata": {},
   "outputs": [
    {
     "name": "stdout",
     "output_type": "stream",
     "text": [
      "Start Timestamp: 2024-04-21T00:00:00Z\n",
      "End Timestamp: 2024-04-21T23:59:59Z\n"
     ]
    }
   ],
   "source": [
    "import datetime\n",
    "\n",
    "# Function to get the start and end timestamps for a specific day\n",
    "def get_day_window(date):\n",
    "    date_obj = datetime.datetime.strptime(date, '%Y-%m-%d') # Convert the date string to a datetime object\n",
    "    \n",
    "    # Get the start timestamp for the day (00:00:00)\n",
    "    start_timestamp = date_obj.replace(hour=0, minute=0, second=0).isoformat() + 'Z'\n",
    "    \n",
    "    # Get the end timestamp for the day (23:59:59)\n",
    "    end_timestamp = date_obj.replace(hour=23, minute=59, second=59).isoformat() + 'Z'\n",
    "    \n",
    "    return start_timestamp, end_timestamp\n",
    "\n",
    "# Example usage\n",
    "date_to_fetch = '2024-04-21'  # Date for which you want to fetch the listening history\n",
    "start_time, end_time = get_day_window(date_to_fetch)\n",
    "\n",
    "print(\"Start Timestamp:\", start_time)\n",
    "print(\"End Timestamp:\", end_time)\n"
   ]
  },
  {
   "cell_type": "code",
   "execution_count": 17,
   "id": "8d0f0771",
   "metadata": {},
   "outputs": [
    {
     "name": "stdout",
     "output_type": "stream",
     "text": [
      "Error: 403\n"
     ]
    }
   ],
   "source": [
    "# Fetching listening history for the specified day\n",
    "listening_history = get_listening_history(access_token, before=end_time, limit=50)\n",
    "\n",
    "if listening_history:\n",
    "    print(\"Tracks listened to on\", date_to_fetch + \":\")\n",
    "    for track in listening_history:\n",
    "        print(track['track']['name'])  # Printing the name of each track"
   ]
  },
  {
   "cell_type": "code",
   "execution_count": 16,
   "id": "33b8dab6",
   "metadata": {},
   "outputs": [
    {
     "ename": "KeyError",
     "evalue": "'access_token'",
     "output_type": "error",
     "traceback": [
      "\u001b[0;31m---------------------------------------------------------------------------\u001b[0m",
      "\u001b[0;31mKeyError\u001b[0m                                  Traceback (most recent call last)",
      "Cell \u001b[0;32mIn[16], line 56\u001b[0m\n\u001b[1;32m     50\u001b[0m \u001b[39m# Getting the access token\u001b[39;00m\n\u001b[1;32m     51\u001b[0m auth_response \u001b[39m=\u001b[39m requests\u001b[39m.\u001b[39mpost(\u001b[39m'\u001b[39m\u001b[39mhttps://accounts.spotify.com/api/token\u001b[39m\u001b[39m'\u001b[39m,\n\u001b[1;32m     52\u001b[0m     {\u001b[39m'\u001b[39m\u001b[39mgrant_type\u001b[39m\u001b[39m'\u001b[39m: \u001b[39m'\u001b[39m\u001b[39mclient_credentials\u001b[39m\u001b[39m'\u001b[39m,\n\u001b[1;32m     53\u001b[0m     \u001b[39m'\u001b[39m\u001b[39mclient_id\u001b[39m\u001b[39m'\u001b[39m: CLIENT_ID,\n\u001b[1;32m     54\u001b[0m     \u001b[39m'\u001b[39m\u001b[39mclient_secret\u001b[39m\u001b[39m'\u001b[39m: CLIENT_SECRET})\u001b[39m.\u001b[39mjson()\n\u001b[0;32m---> 56\u001b[0m access_token \u001b[39m=\u001b[39m auth_response[\u001b[39m'\u001b[39;49m\u001b[39maccess_token\u001b[39;49m\u001b[39m'\u001b[39;49m]\n\u001b[1;32m     58\u001b[0m \u001b[39m# Fetching listening history for the specified day\u001b[39;00m\n\u001b[1;32m     59\u001b[0m listening_history \u001b[39m=\u001b[39m get_listening_history(access_token, before\u001b[39m=\u001b[39mend_time, limit\u001b[39m=\u001b[39m\u001b[39m50\u001b[39m)\n",
      "\u001b[0;31mKeyError\u001b[0m: 'access_token'"
     ]
    }
   ],
   "source": []
  },
  {
   "cell_type": "code",
   "execution_count": null,
   "id": "8b2449d9",
   "metadata": {},
   "outputs": [],
   "source": []
  }
 ],
 "metadata": {
  "kernelspec": {
   "display_name": "Python 3",
   "language": "python",
   "name": "python3"
  },
  "language_info": {
   "codemirror_mode": {
    "name": "ipython",
    "version": 3
   },
   "file_extension": ".py",
   "mimetype": "text/x-python",
   "name": "python",
   "nbconvert_exporter": "python",
   "pygments_lexer": "ipython3",
   "version": "3.11.6"
  },
  "vscode": {
   "interpreter": {
    "hash": "b0fa6594d8f4cbf19f97940f81e996739fb7646882a419484c72d19e05852a7e"
   }
  }
 },
 "nbformat": 4,
 "nbformat_minor": 5
}
